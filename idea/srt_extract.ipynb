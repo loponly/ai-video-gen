{
 "cells": [
  {
   "cell_type": "code",
   "execution_count": 34,
   "id": "d11dcd71",
   "metadata": {},
   "outputs": [],
   "source": [
    "import os\n",
    "from dotenv import load_dotenv\n",
    "from qdrant_client import QdrantClient\n",
    "from qdrant_client.http.models import PointStruct, VectorParams, Distance\n",
    "import re\n",
    "from typing import List, Dict\n",
    "\n",
    "\n",
    "# Load environment variables\n",
    "load_dotenv()\n",
    "\n",
    "QDRANT_URL = os.getenv(\"QDRANT_URL\")\n",
    "QDRANT_API_KEY = os.getenv(\"QDRANT_API_KEY\")\n",
    "QDRANT_COLLECTION = os.getenv(\"QDRANT_COLLECTION\", \"srt_subtitles\")\n",
    "\n"
   ]
  },
  {
   "cell_type": "code",
   "execution_count": 35,
   "id": "c1727434",
   "metadata": {},
   "outputs": [
    {
     "name": "stdout",
     "output_type": "stream",
     "text": [
      "[{'index': 1, 'start': '00:02:08,080', 'end': '00:02:12,240', 'movie_name': 'Shawshank Redemption', 'text': '...the confrontation you had with your wife the night she was murdered.'}, {'index': 2, 'start': '00:02:16,720', 'end': '00:02:18,320', 'movie_name': 'Shawshank Redemption', 'text': 'It was very bitter.'}, {'index': 3, 'start': '00:02:18,640', 'end': '00:02:22,760', 'movie_name': 'Shawshank Redemption', 'text': 'She said she was glad I knew, that she hated all the sneaking around.'}, {'index': 4, 'start': '00:02:24,280', 'end': '00:02:27,600', 'movie_name': 'Shawshank Redemption', 'text': 'And she said that she wanted a divorce in Reno.'}, {'index': 5, 'start': '00:02:27,840', 'end': '00:02:31,360', 'movie_name': 'Shawshank Redemption', 'text': '-What was your response? -I told her I would not grant one.'}, {'index': 6, 'start': '00:02:31,560', 'end': '00:02:34,600', 'movie_name': 'Shawshank Redemption', 'text': '\"I\\'ll see you in hell before I see you in Reno.\"'}, {'index': 7, 'start': '00:02:34,760', 'end': '00:02:38,000', 'movie_name': 'Shawshank Redemption', 'text': 'Those were your words, according to your neighbors.'}, {'index': 8, 'start': '00:02:39,000', 'end': '00:02:40,560', 'movie_name': 'Shawshank Redemption', 'text': 'If they say so.'}, {'index': 9, 'start': '00:02:41,080', 'end': '00:02:43,480', 'movie_name': 'Shawshank Redemption', 'text': \"I really don't remember. I was upset.\"}]\n"
     ]
    }
   ],
   "source": [
    "# Function to parse .srt file\n",
    "def parse_srt(file_path: str, movie_name: str, idx:int=0) -> List[Dict[str, str]]:\n",
    "    with open(file_path, 'r', encoding='utf-8') as f:\n",
    "        content = f.read()\n",
    "    pattern = re.compile(r'(\\d+)\\s+(\\d{2}:\\d{2}:\\d{2},\\d{3}) --> (\\d{2}:\\d{2}:\\d{2},\\d{3})\\s+(.+?)(?=\\n\\d+\\n|\\Z)', re.DOTALL)\n",
    "    matches = pattern.findall(content)\n",
    "    subtitles = []\n",
    "    for _, start, end, text in matches:\n",
    "        subtitles.append({\n",
    "            \"index\": int(idx),\n",
    "            \"start\": start,\n",
    "            \"end\": end,\n",
    "            \"movie_name\": movie_name,\n",
    "            \"text\": text.replace('\\n', ' ').strip()\n",
    "        })\n",
    "        idx += 1\n",
    "    return subtitles\n",
    "\n",
    "\n",
    "SRT_PATH = \"/Users/enkhbat_1/projects/ai-video-ge/movie-reels/srt_files/\"\n",
    "raw_srt_file = parse_srt(f\"{SRT_PATH}Shawshank_Redemption_1.srt\",movie_name=\"Shawshank Redemption\")\n",
    "print(raw_srt_file[1:10])  "
   ]
  },
  {
   "cell_type": "code",
   "execution_count": 36,
   "id": "ffc10dc3",
   "metadata": {},
   "outputs": [
    {
     "data": {
      "text/plain": [
       "930"
      ]
     },
     "execution_count": 36,
     "metadata": {},
     "output_type": "execute_result"
    }
   ],
   "source": [
    "from langchain_core.documents import Document\n",
    "from langchain_text_splitters import RecursiveCharacterTextSplitter\n",
    "\n",
    "def prepare_documents(raw_srt_file: List[dict]) -> List[Document]:\n",
    "    \"\"\"\n",
    "    Convert raw SRT file data to LangChain Document objects.\n",
    "    \n",
    "    Args:\n",
    "        raw_srt_file (list): List of dictionaries containing subtitle data.\n",
    "        \n",
    "    Returns:\n",
    "        list: List of LangChain Document objects.\n",
    "    \"\"\"\n",
    "\n",
    "    text_splitter = RecursiveCharacterTextSplitter(\n",
    "        chunk_size=100, chunk_overlap=10, add_start_index=True\n",
    "    )\n",
    "    return text_splitter.split_documents([\n",
    "        Document(\n",
    "            page_content=sub[\"text\"],\n",
    "            metadata={\n",
    "                \"index\": sub[\"index\"],\n",
    "                \"start\": sub[\"start\"],\n",
    "                \"end\": sub[\"end\"],\n",
    "                \"movie_name\": sub[\"movie_name\"]\n",
    "            }\n",
    "        )\n",
    "        for sub in raw_srt_file\n",
    "    ])\n",
    "\n",
    "# Convert raw_srt_file to LangChain Document objects\n",
    "all_splits = prepare_documents(raw_srt_file)\n",
    "\n",
    "len(all_splits)  # Total number of splits"
   ]
  },
  {
   "cell_type": "code",
   "execution_count": 37,
   "id": "29a1b380",
   "metadata": {},
   "outputs": [],
   "source": [
    "from langchain_huggingface import HuggingFaceEmbeddings\n",
    "\n",
    "\n",
    "\n",
    "embeddings = HuggingFaceEmbeddings(model_name=\"Qwen/Qwen3-Embedding-0.6B\",\n",
    "                                   cache_folder= \"/Users/enkhbat_1/projects/ai-video-ge/cache-models/\")\n"
   ]
  },
  {
   "cell_type": "code",
   "execution_count": 38,
   "id": "7cec1b3a",
   "metadata": {},
   "outputs": [
    {
     "data": {
      "text/plain": [
       "1024"
      ]
     },
     "execution_count": 38,
     "metadata": {},
     "output_type": "execute_result"
    }
   ],
   "source": [
    "len(embeddings.embed_query(all_splits[2].page_content))  # Example embedding for the first split"
   ]
  },
  {
   "cell_type": "code",
   "execution_count": 39,
   "id": "63da3dd9",
   "metadata": {},
   "outputs": [],
   "source": [
    "\n",
    "client = QdrantClient(\n",
    "    url=QDRANT_URL,  # Use QDRANT_URL from environment variables\n",
    "    api_key=QDRANT_API_KEY\n",
    ")"
   ]
  },
  {
   "cell_type": "code",
   "execution_count": null,
   "id": "7c767168",
   "metadata": {},
   "outputs": [],
   "source": [
    "from langchain_qdrant import QdrantVectorStore\n",
    "from langchain_qdrant import RetrievalMode\n",
    "vector_store = QdrantVectorStore.from_documents(\n",
    "    all_splits,embeddings,\n",
    "    url = QDRANT_URL,\n",
    "    api_key = QDRANT_API_KEY,\n",
    "    collection_name=\"srt_subtitles\",\n",
    "    distance=Distance.COSINE , # or Distance.EUCLID\n",
    "    retrieval_mode=RetrievalMode.DENSE\n",
    ")"
   ]
  },
  {
   "cell_type": "code",
   "execution_count": null,
   "id": "8563c640",
   "metadata": {},
   "outputs": [
    {
     "name": "stdout",
     "output_type": "stream",
     "text": [
      "{'points': [{'id': '0028713f-62cc-4215-8bed-c97f2d004727',\n",
      "             'order_value': None,\n",
      "             'payload': {'metadata': {'end': '01:07:14,840',\n",
      "                                      'index': 882,\n",
      "                                      'movie_name': 'Shawshank Redemption',\n",
      "                                      'start': '01:07:12,720',\n",
      "                                      'start_index': 0},\n",
      "                         'page_content': 'And for the briefest of moments...'},\n",
      "             'score': 1.0,\n",
      "             'shard_key': None,\n",
      "             'vector': None,\n",
      "             'version': 28},\n",
      "            {'id': '5efa9f07-0c09-4b23-8bd0-192b0201ca8a',\n",
      "             'order_value': None,\n",
      "             'payload': {'metadata': {'end': '01:07:14,840',\n",
      "                                      'index': 882,\n",
      "                                      'movie_name': 'Shawshank Redemption',\n",
      "                                      'start': '01:07:12,720',\n",
      "                                      'start_index': 0},\n",
      "                         'page_content': 'And for the briefest of moments...'},\n",
      "             'score': 1.0,\n",
      "             'shard_key': None,\n",
      "             'vector': None,\n",
      "             'version': 13},\n",
      "            {'id': '6edd0830-af42-4f2a-88b5-ec33e42820f4',\n",
      "             'order_value': None,\n",
      "             'payload': {'metadata': {'end': '00:37:20,640',\n",
      "                                      'index': 497,\n",
      "                                      'movie_name': 'Shawshank Redemption',\n",
      "                                      'start': '00:37:18,560',\n",
      "                                      'start_index': 0},\n",
      "                         'page_content': '...if only for a short while.'},\n",
      "             'score': 0.8167269,\n",
      "             'shard_key': None,\n",
      "             'vector': None,\n",
      "             'version': 22}]}\n"
     ]
    },
    {
     "name": "stderr",
     "output_type": "stream",
     "text": [
      "/var/folders/3y/3k3hgv3j1nd15tryq2p3kdgh0000gn/T/ipykernel_56614/3378288144.py:8: PydanticDeprecatedSince20: The `dict` method is deprecated; use `model_dump` instead. Deprecated in Pydantic V2.0 to be removed in V3.0. See Pydantic V2 Migration Guide at https://errors.pydantic.dev/2.11/migration/\n",
      "  pprint(retrieve.dict())\n"
     ]
    }
   ],
   "source": [
    "from pprint import pprint\n",
    "\n",
    "retrieve = client.query_points(\n",
    "    collection_name=\"srt_subtitles\",\n",
    "    query=embeddings.embed_query(\"And for the briefest of moments...\"),\n",
    "    limit=3\n",
    ")\n",
    "pprint(retrieve.dict())"
   ]
  },
  {
   "cell_type": "code",
   "execution_count": null,
   "id": "1f6495a0",
   "metadata": {},
   "outputs": [
    {
     "name": "stdout",
     "output_type": "stream",
     "text": [
      "[Document(metadata={'index': 882, 'start': '01:07:12,720', 'end': '01:07:14,840', 'movie_name': 'Shawshank Redemption', 'start_index': 0, '_id': '0028713f-62cc-4215-8bed-c97f2d004727', '_collection_name': 'srt_subtitles'}, page_content='And for the briefest of moments...'),\n",
      " Document(metadata={'index': 882, 'start': '01:07:12,720', 'end': '01:07:14,840', 'movie_name': 'Shawshank Redemption', 'start_index': 0, '_id': '5efa9f07-0c09-4b23-8bd0-192b0201ca8a', '_collection_name': 'srt_subtitles'}, page_content='And for the briefest of moments...'),\n",
      " Document(metadata={'index': 497, 'start': '00:37:18,560', 'end': '00:37:20,640', 'movie_name': 'Shawshank Redemption', 'start_index': 0, '_id': '6edd0830-af42-4f2a-88b5-ec33e42820f4', '_collection_name': 'srt_subtitles'}, page_content='...if only for a short while.')]\n"
     ]
    }
   ],
   "source": [
    "\n",
    "# Perform a similarity search\n",
    "\n",
    "query = \"And for the briefest of moments...\"\n",
    "found_docs = vector_store.similarity_search(query, k=3)\n",
    "pprint(found_docs)"
   ]
  },
  {
   "cell_type": "code",
   "execution_count": null,
   "id": "287c5466",
   "metadata": {},
   "outputs": [],
   "source": [
    "### Chat with Gemini model\n",
    "import os\n",
    "\n",
    "from langchain.chat_models import init_chat_model\n",
    "\n",
    "# Use Gemini instead of Gemma for system prompt support\n",
    "model = init_chat_model(model=\"gemini-1.5-flash\",\n",
    "                         model_provider=\"google_genai\", \n",
    "                         api_key=os.environ[\"GEMINI_API_KEY\"])\n",
    "\n",
    "\n",
    "from langchain_core.messages import HumanMessage\n",
    "\n",
    "# For Gemma models, combine system instruction with human message\n",
    "messages = [\n",
    "    HumanMessage(\"Translate the following from English into Italian: hi!\"),\n",
    "]\n",
    "\n",
    "model.invoke(messages).content\n"
   ]
  }
 ],
 "metadata": {
  "kernelspec": {
   "display_name": ".venv",
   "language": "python",
   "name": "python3"
  },
  "language_info": {
   "codemirror_mode": {
    "name": "ipython",
    "version": 3
   },
   "file_extension": ".py",
   "mimetype": "text/x-python",
   "name": "python",
   "nbconvert_exporter": "python",
   "pygments_lexer": "ipython3",
   "version": "3.11.4"
  }
 },
 "nbformat": 4,
 "nbformat_minor": 5
}
