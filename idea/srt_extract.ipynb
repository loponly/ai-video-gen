{
 "cells": [
  {
   "cell_type": "code",
   "execution_count": 8,
   "id": "d11dcd71",
   "metadata": {},
   "outputs": [],
   "source": [
    "import os\n",
    "from dotenv import load_dotenv\n",
    "from qdrant_client import QdrantClient\n",
    "from langchain_core.documents import Document\n",
    "from qdrant_client.http.models import PointStruct, VectorParams, Distance\n",
    "import re\n",
    "from pprint import pprint\n",
    "from typing import List, Dict\n",
    "\n",
    "\n",
    "# Load environment variables\n",
    "load_dotenv()\n",
    "\n",
    "QDRANT_URL = os.getenv(\"QDRANT_URL\")\n",
    "QDRANT_API_KEY = os.getenv(\"QDRANT_API_KEY\")\n",
    "QDRANT_COLLECTION = os.getenv(\"QDRANT_COLLECTION\", \"srt_subtitles\")\n",
    "\n"
   ]
  },
  {
   "cell_type": "code",
   "execution_count": 18,
   "id": "c1727434",
   "metadata": {},
   "outputs": [
    {
     "name": "stdout",
     "output_type": "stream",
     "text": [
      "27200\n"
     ]
    }
   ],
   "source": [
    "def get_files_matching_regex(directory: str, pattern: str) -> List[str]:\n",
    "    \"\"\"\n",
    "    Get all file names in a directory that match a given regex pattern.\n",
    "    \n",
    "    Args:\n",
    "        directory (str): Path to the directory to search\n",
    "        pattern (str): Regex pattern to match filenames\n",
    "        \n",
    "    Returns:\n",
    "        List[str]: List of matching file paths\n",
    "    \"\"\"\n",
    "    compiled_pattern = re.compile(pattern)\n",
    "    matching_files = []\n",
    "    \n",
    "    try:\n",
    "        for filename in os.listdir(directory):\n",
    "            if compiled_pattern.match(filename):\n",
    "                matching_files.append(os.path.join(directory, filename))\n",
    "    except FileNotFoundError:\n",
    "        print(f\"Directory not found: {directory}\")\n",
    "    except PermissionError:\n",
    "        print(f\"Permission denied accessing: {directory}\")\n",
    "    \n",
    "    return matching_files\n",
    "\n",
    "\n",
    "def clean_html_tags(text: str) -> str:\n",
    "    \"\"\"Remove HTML tags from text\"\"\"\n",
    "    html_pattern = re.compile(r'<[^>]+>')\n",
    "    return html_pattern.sub('', text)\n",
    "\n",
    "\n",
    "# Function to parse .srt file\n",
    "def parse_srt(file_path: str, movie_name: str, idx:int=0) -> List[Dict[str, str]]:\n",
    "    with open(file_path, 'r', encoding='utf-8') as f:\n",
    "        content = f.read()\n",
    "    pattern = re.compile(r'(\\d+)\\s+(\\d{2}:\\d{2}:\\d{2},\\d{3}) --> (\\d{2}:\\d{2}:\\d{2},\\d{3})\\s+(.+?)(?=\\n\\d+\\n|\\Z)', re.DOTALL)\n",
    "    matches = pattern.findall(content)\n",
    "    subtitles = []\n",
    "    for _, start, end, text in matches:\n",
    "        subtitles.append({\n",
    "            \"index\": int(idx),\n",
    "            \"start\": start,\n",
    "            \"end\": end,\n",
    "            \"movie_name\": movie_name,\n",
    "            \"text\": clean_html_tags(text).replace('\\n', ' ').strip(),\n",
    "            \"file_name\": os.path.basename(file_path)\n",
    "        })\n",
    "        idx += 1\n",
    "    return subtitles\n",
    "\n",
    "\n",
    "ASSET_PATH = \"/Users/enkhbat_1/projects/ai-video-ge/movie-reels\"\n",
    "SRT_PATH = f\"{ASSET_PATH}/srt_files/\"\n",
    "\n",
    "serial_name = \"Buddha\"\n",
    "# Get all SRT files matching the regex for the serial\n",
    "file_names = get_files_matching_regex(SRT_PATH, r\"Buddha Episode.*\\.srt\")\n",
    "\n",
    "\n",
    "raw_srt_file = []\n",
    "for file_name in file_names:\n",
    "    movie_name = serial_name\n",
    "    subtitles = parse_srt(file_name, movie_name)\n",
    "    raw_srt_file.extend(subtitles)\n",
    "\n",
    "print(len(raw_srt_file))\n",
    "\n",
    "\n",
    "\n"
   ]
  },
  {
   "cell_type": "code",
   "execution_count": 10,
   "id": "70adb680",
   "metadata": {},
   "outputs": [
    {
     "name": "stdout",
     "output_type": "stream",
     "text": [
      "('Tales of ancient history... SCRIPTURES ...are aptly called as the Puranas. '\n",
      " 'The Puranas are replete with the history of ancient India. The universe was '\n",
      " 'created ages ago and for the good of mankind, there born a great man in '\n",
      " 'every era. In the Treta Yuga, Lord Rama appeared with a message of paramount '\n",
      " 'obedience and set an example for the whole world to follow. In the Dwapar '\n",
      " 'Yuga, Lord Krishna explained the principle of duty through the Bhagavad Gita '\n",
      " 'and established the reign of righteousness. As time passed, unrighteousness '\n",
      " 'overpowered righteousness. Dishonesty, discrimination, inequality, vices, '\n",
      " 'avarice and blind faith were on the rise. Fear led the mankind into the '\n",
      " 'abyss of ignorance. To destroy this darkness, another great man was to be '\n",
      " \"born. This time, that great man was called... Buddha. It's been ages since \"\n",
      " 'the epic battle of Mahabharata. That epic struggle broke up India into many '\n",
      " 'parts. Two thousand five hundred years ago, in northeast India,')\n"
     ]
    }
   ],
   "source": [
    "def concat_subtitles_by_chunks(subtitles, chunk_size=3):\n",
    "    \"\"\"\n",
    "    Concatenate subtitles into chunks of specified size\n",
    "    \n",
    "    Args:\n",
    "        subtitles: List of subtitle dictionaries\n",
    "        chunk_size: Number of subtitles to combine in each chunk\n",
    "    \n",
    "    Returns:\n",
    "        List of concatenated subtitle chunks\n",
    "    \"\"\"\n",
    "    def time_to_seconds(time_str):\n",
    "        \"\"\"Convert 'HH:MM:SS,mmm' format to seconds\"\"\"\n",
    "        time_part, ms = time_str.split(',')\n",
    "        h, m, s = map(int, time_part.split(':'))\n",
    "        return h * 3600 + m * 60 + s + int(ms) / 1000\n",
    "    \n",
    "    def seconds_to_time(seconds):\n",
    "        \"\"\"Convert seconds back to 'HH:MM:SS,mmm' format\"\"\"\n",
    "        hours = int(seconds // 3600)\n",
    "        minutes = int((seconds % 3600) // 60)\n",
    "        secs = int(seconds % 60)\n",
    "        ms = int((seconds % 1) * 1000)\n",
    "        return f\"{hours:02d}:{minutes:02d}:{secs:02d},{ms:03d}\"\n",
    "    \n",
    "    concatenated_subtitles = []\n",
    "    \n",
    "    # Process subtitles in chunks\n",
    "    for i in range(0, len(subtitles), chunk_size):\n",
    "        chunk = subtitles[i:i + chunk_size]\n",
    "        \n",
    "        if not chunk:\n",
    "            continue\n",
    "            \n",
    "        # Combine text from all subtitles in chunk\n",
    "        combined_text = ' '.join(subtitle['text'] for subtitle in chunk)\n",
    "        \n",
    "        # Get start and end times\n",
    "        start_time = chunk[0]['start']\n",
    "        end_time = chunk[-1]['end']\n",
    "        \n",
    "        # Calculate duration\n",
    "        start_seconds = time_to_seconds(start_time)\n",
    "        end_seconds = time_to_seconds(end_time)\n",
    "        total_duration = end_seconds - start_seconds\n",
    "        \n",
    "        # Create combined subtitle entry\n",
    "        combined_subtitle = {\n",
    "            'index': len(concatenated_subtitles),\n",
    "            'start': start_time,\n",
    "            'end': end_time,\n",
    "            'movie_name': chunk[0]['movie_name'],\n",
    "            'text': combined_text,\n",
    "            'duration_seconds': round(total_duration, 3),\n",
    "            'duration_minutes': round(total_duration / 60, 3),\n",
    "            'original_count': len(chunk),\n",
    "            'file_name': chunk[0]['file_name']\n",
    "        }\n",
    "        \n",
    "        concatenated_subtitles.append(combined_subtitle)\n",
    "    \n",
    "    return concatenated_subtitles\n",
    "\n",
    " # Combine subtitles into chunks of 10\n",
    "combined_srt = concat_subtitles_by_chunks(raw_srt_file, chunk_size=20)\n",
    "pprint(combined_srt[0]['text'])"
   ]
  },
  {
   "cell_type": "code",
   "execution_count": 11,
   "id": "ffc10dc3",
   "metadata": {},
   "outputs": [
    {
     "name": "stdout",
     "output_type": "stream",
     "text": [
      "Document(metadata={'index': 1, 'start': '00:01:38,720', 'end': '00:03:59,440', 'movie_name': 'Buddha', 'text': \"near Magadha and Vaishali lay a republic called Kapilavastu. It was ruled by a mighty warrior from the Shakya clan King Suddhodana of the Sun dynasty. -Gopal. -Yes? I think we have some good news. Laushika, you're right. That's why the bells are tolling. The king and his enemies Faced each other A fierce battle ensued The brave won in the end. Who was the brave one? He is none other Than King Suddhodana Your Grace. Your Grace. Laushika, I was going to send for you, The bells are... There's good news, Your Grace. King Suddhodana defeated the tribal chiefs and is returning to Kapilavastu. God has answered my prayers. Did you convey this message to Queen Mahamaya? No, she's not in her chamber at the moment. All right. Make arrangements to distribute food to the poor. I'll personally give this good news to my sister.\", 'duration_seconds': 140.72, 'duration_minutes': 2.345, 'original_count': 20, 'file_name': 'Buddha Episode 1.srt'}, page_content=\"near Magadha and Vaishali lay a republic called Kapilavastu. It was ruled by a mighty warrior from the Shakya clan King Suddhodana of the Sun dynasty. -Gopal. -Yes? I think we have some good news. Laushika, you're right. That's why the bells are tolling. The king and his enemies Faced each other A fierce battle ensued The brave won in the end. Who was the brave one? He is none other Than King Suddhodana Your Grace. Your Grace. Laushika, I was going to send for you, The bells are... There's good news, Your Grace. King Suddhodana defeated the tribal chiefs and is returning to Kapilavastu. God has answered my prayers. Did you convey this message to Queen Mahamaya? No, she's not in her chamber at the moment. All right. Make arrangements to distribute food to the poor. I'll personally give this good news to my sister.\")\n"
     ]
    }
   ],
   "source": [
    "\n",
    "from langchain_text_splitters import RecursiveCharacterTextSplitter\n",
    "\n",
    "\n",
    "def prepare_documents_with_text_splitter(raw_srt_file: List[dict]) -> List[Document]:\n",
    "    \"\"\"\n",
    "    Convert raw SRT file data to LangChain Document objects.\n",
    "    \n",
    "    Args:\n",
    "        raw_srt_file (list): List of dictionaries containing subtitle data.\n",
    "        \n",
    "    Returns:\n",
    "        list: List of LangChain Document objects.\n",
    "    \"\"\"\n",
    "\n",
    "    text_splitter = RecursiveCharacterTextSplitter(\n",
    "        chunk_size=1000, chunk_overlap=100, add_start_index=True\n",
    "    )\n",
    "    return text_splitter.split_documents([\n",
    "        Document(page_content=sub[\"text\"],metadata=sub)\n",
    "        for sub in raw_srt_file\n",
    "    ])\n",
    "\n",
    "def prepare_documents(raw_srt_file: List[dict]) -> List[Document]:\n",
    "    \"\"\"\n",
    "    Convert raw SRT file data to LangChain Document objects.\n",
    "    \n",
    "    Args:\n",
    "        raw_srt_file (list): List of dictionaries containing subtitle data.\n",
    "        \n",
    "    Returns:\n",
    "        list: List of LangChain Document objects.\n",
    "    \"\"\"\n",
    "\n",
    "    return [Document(page_content=sub[\"text\"], metadata=sub)\n",
    "                   for sub in raw_srt_file]\n",
    "\n",
    "# Convert raw_srt_file to LangChain Document objects\n",
    "all_splits = prepare_documents(combined_srt)\n",
    "\n",
    "len(all_splits)  # Total number of splits\n",
    "\n",
    "pprint(all_splits[1])  # Print the content of the first split\n"
   ]
  },
  {
   "cell_type": "code",
   "execution_count": 12,
   "id": "29a1b380",
   "metadata": {},
   "outputs": [
    {
     "name": "stderr",
     "output_type": "stream",
     "text": [
      "/Users/enkhbat_1/projects/ai-video-ge/.venv/lib/python3.11/site-packages/tqdm/auto.py:21: TqdmWarning: IProgress not found. Please update jupyter and ipywidgets. See https://ipywidgets.readthedocs.io/en/stable/user_install.html\n",
      "  from .autonotebook import tqdm as notebook_tqdm\n"
     ]
    }
   ],
   "source": [
    "from langchain_huggingface import HuggingFaceEmbeddings\n",
    "\n",
    "\n",
    "\n",
    "embeddings = HuggingFaceEmbeddings(model_name=\"sentence-transformers/all-MiniLM-L12-v2\",\n",
    "                                   # encode_kwargs = {'normalize_embeddings': True},\n",
    "                                   cache_folder= \"/Users/enkhbat_1/projects/ai-video-ge/cache-models/\")\n"
   ]
  },
  {
   "cell_type": "code",
   "execution_count": 13,
   "id": "7eceb4ea",
   "metadata": {},
   "outputs": [],
   "source": [
    "from sklearn.metrics.pairwise import cosine_similarity\n",
    "import numpy as np\n",
    "\n",
    "def vectorize_documents(documents: List[Document], embedding_model:HuggingFaceEmbeddings,labels:List[str]) -> List[PointStruct]:\n",
    "    \"\"\"\n",
    "    Convert LangChain Document objects to Qdrant PointStructs with embeddings.\n",
    "\n",
    "    Args:\n",
    "        documents (list): List of LangChain Document objects.\n",
    "        embedding_model: Embedding model to generate vector embeddings.\n",
    "        labels (list): List of labels for the documents.\n",
    "\n",
    "    Returns:\n",
    "        list: List of PointStructs with embeddings.\n",
    "    \"\"\"\n",
    "    label_embeddings = {label: embedding_model.embed_query(label) for label in labels}\n",
    "    points = []\n",
    "    for doc in documents:\n",
    "        dense_vector = embedding_model.embed_query(doc.page_content)\n",
    "        # sparse_vector = {\n",
    "        #     label: float(cosine_similarity(np.asarray(dense_vector).reshape(1, -1), np.asarray(label_embeddings[label]).reshape(1, -1))[0, 0]) for label in labels\n",
    "        # }\n",
    "        \n",
    "        points.append(\n",
    "            {\n",
    "                \"id\": doc.metadata[\"index\"],\n",
    "                \"vector\": dense_vector,\n",
    "              #  \"sparse_vector\": sparse_vector,\n",
    "                \"payload\": doc.metadata,\n",
    "            }\n",
    "        )\n",
    "    return points\n",
    "\n",
    "vectorized_points = vectorize_documents(all_splits, embeddings, labels=[\n",
    "    \"Overcoming\",\n",
    "    \"Achieving\",\n",
    "    \"Persistence\",\n",
    "    \"Growth\",\n",
    "    \"Teamwork\",\n",
    "    \"Time\",\n",
    "    \"Resilience\",\n",
    "    \"Courage\",\n",
    "    \"Hope\",\n",
    "    \"Discipline\",\n",
    "    \"Change\",\n",
    "    \"Focus\",\n",
    "    \"Self-belief\",\n",
    "    \"Ambition\",\n",
    "    \"Leadership\",\n",
    "    \"Passion\",\n",
    "    \"Determination\",\n",
    "    \"Vision\",\n",
    "    \"Confidence\",\n",
    "    \"Adaptation\",\n",
    "    \"Rules\"\n",
    "])\n",
    "\n",
    "# print(embeddings.embed_query(\"This is a test sentence.\").reshape(1,-1))  # Example embedding\n",
    "# print(vectorized_points[0])  # Print the first vectorized point"
   ]
  },
  {
   "cell_type": "code",
   "execution_count": 60,
   "id": "839cf5ba",
   "metadata": {},
   "outputs": [
    {
     "name": "stdout",
     "output_type": "stream",
     "text": [
      "(1, 384)\n",
      "(1360, 384)\n",
      "(1, 1360)\n",
      "00:35:37,920 Buddha Episode 55.srt\n",
      "Always be in the company of good human beings. Those who live aimlessly or carelessly are bad. They can misguide you as well. Create an atmosphere around you which will lead to your spiritual growth. When your conscience is pure, all your actions will be righteous. No matter what you do, be it your business or your household chores, try to understand it in depth and always give your best. Even when you cook, don't treat it as a chore, but treat it as a unique opportunity. Be it your parents, in-laws, children or other people around you, take care of them. Don't lead a selfish life. Share your wealth, prosperity, happiness and possessions with everyone.\n"
     ]
    }
   ],
   "source": [
    "question = \"What is top rules for family in life?\"\n",
    "\n",
    "array_question = np.array(embeddings.embed_query(question)).reshape(1,-1)  # Example embedding\n",
    "array_vectorized_points = np.array([point['vector'] for point in vectorized_points]).reshape(-1, len(vectorized_points[0]['vector']))  # Reshape to match dimensions\n",
    "    \n",
    "score = cosine_similarity(array_question, array_vectorized_points)  # Matrix multiplication to get scores\n",
    "print(array_question.shape)\n",
    "print(array_vectorized_points.shape)\n",
    "print(score.shape)  # Should be (1, number_of_points)\n",
    "\n",
    "top_1_result = vectorized_points[np.argmax(score)]\n",
    "print(top_1_result['payload']['start'],\n",
    "      top_1_result['payload']['file_name'])\n",
    "print(top_1_result['payload']['text'])  # Print the scores for the question against all points"
   ]
  },
  {
   "cell_type": "code",
   "execution_count": 58,
   "id": "e81a6a87",
   "metadata": {},
   "outputs": [
    {
     "name": "stdout",
     "output_type": "stream",
     "text": [
      "End time: 00:36:42,200\n",
      "Duration in minutes: 1.071\n",
      "As dict: {'video_path': '/Users/enkhbat_1/projects/ai-video-ge/movie-reels/movies/Buddha-EP-55.mp4', 'start_time': '00:35:37,920', 'end_time': '00:36:42,200', 'text': \"Always be in the company of good human beings. Those who live aimlessly or carelessly are bad. They can misguide you as well. Create an atmosphere around you which will lead to your spiritual growth. When your conscience is pure, all your actions will be righteous. No matter what you do, be it your business or your household chores, try to understand it in depth and always give your best. Even when you cook, don't treat it as a chore, but treat it as a unique opportunity. Be it your parents, in-laws, children or other people around you, take care of them. Don't lead a selfish life. Share your wealth, prosperity, happiness and possessions with everyone.\", 'duration': 64.28, 'duration_minutes': 1.071, 'file_name': 'Buddha Episode 55.srt', 'movie_name': 'Buddha'}\n"
     ]
    }
   ],
   "source": [
    "from video_text_parameters import VideoTextParameter, VideoTextParameterManager\n",
    "\n",
    "# Create a single video text parameter\n",
    "video_param = VideoTextParameter(\n",
    "    video_path=f\"{ASSET_PATH}/movies/Buddha-EP-55.mp4\",\n",
    "    start_time=top_1_result['payload']['start'],\n",
    "    text=top_1_result['payload']['text'],\n",
    "    duration=top_1_result['payload']['duration_seconds'],\n",
    "    file_name=top_1_result['payload']['file_name'],\n",
    "    movie_name=top_1_result['payload']['movie_name']\n",
    ")\n",
    "\n",
    "print(f\"End time: {video_param.end_time}\")\n",
    "print(f\"Duration in minutes: {video_param.get_duration_minutes()}\")\n",
    "print(f\"As dict: {video_param.to_dict()}\")\n",
    "\n",
    "\n"
   ]
  },
  {
   "cell_type": "code",
   "execution_count": null,
   "id": "1c1cc4b9",
   "metadata": {},
   "outputs": [
    {
     "name": "stderr",
     "output_type": "stream",
     "text": [
      "huggingface/tokenizers: The current process just got forked, after parallelism has already been used. Disabling parallelism to avoid deadlocks...\n",
      "To disable this warning, you can either:\n",
      "\t- Avoid using `tokenizers` before the fork if possible\n",
      "\t- Explicitly set the environment variable TOKENIZERS_PARALLELISM=(true | false)\n",
      "huggingface/tokenizers: The current process just got forked, after parallelism has already been used. Disabling parallelism to avoid deadlocks...\n",
      "To disable this warning, you can either:\n",
      "\t- Avoid using `tokenizers` before the fork if possible\n",
      "\t- Explicitly set the environment variable TOKENIZERS_PARALLELISM=(true | false)\n",
      "huggingface/tokenizers: The current process just got forked, after parallelism has already been used. Disabling parallelism to avoid deadlocks...\n",
      "To disable this warning, you can either:\n",
      "\t- Avoid using `tokenizers` before the fork if possible\n",
      "\t- Explicitly set the environment variable TOKENIZERS_PARALLELISM=(true | false)\n",
      "huggingface/tokenizers: The current process just got forked, after parallelism has already been used. Disabling parallelism to avoid deadlocks...\n",
      "To disable this warning, you can either:\n",
      "\t- Avoid using `tokenizers` before the fork if possible\n",
      "\t- Explicitly set the environment variable TOKENIZERS_PARALLELISM=(true | false)\n",
      "huggingface/tokenizers: The current process just got forked, after parallelism has already been used. Disabling parallelism to avoid deadlocks...\n",
      "To disable this warning, you can either:\n",
      "\t- Avoid using `tokenizers` before the fork if possible\n",
      "\t- Explicitly set the environment variable TOKENIZERS_PARALLELISM=(true | false)\n",
      "huggingface/tokenizers: The current process just got forked, after parallelism has already been used. Disabling parallelism to avoid deadlocks...\n",
      "To disable this warning, you can either:\n",
      "\t- Avoid using `tokenizers` before the fork if possible\n",
      "\t- Explicitly set the environment variable TOKENIZERS_PARALLELISM=(true | false)\n"
     ]
    },
    {
     "name": "stdout",
     "output_type": "stream",
     "text": [
      "MoviePy - Building video /Users/enkhbat_1/projects/ai-video-ge/movie-reels/output/family_rules_clip.mp4.\n",
      "MoviePy - Writing audio in temp-audio.m4a\n"
     ]
    },
    {
     "name": "stderr",
     "output_type": "stream",
     "text": [
      "chunk:   0%|          | 0/1550 [00:00<?, ?it/s, now=None]huggingface/tokenizers: The current process just got forked, after parallelism has already been used. Disabling parallelism to avoid deadlocks...\n",
      "To disable this warning, you can either:\n",
      "\t- Avoid using `tokenizers` before the fork if possible\n",
      "\t- Explicitly set the environment variable TOKENIZERS_PARALLELISM=(true | false)\n",
      "huggingface/tokenizers: The current process just got forked, after parallelism has already been used. Disabling parallelism to avoid deadlocks...\n",
      "To disable this warning, you can either:\n",
      "\t- Avoid using `tokenizers` before the fork if possible\n",
      "\t- Explicitly set the environment variable TOKENIZERS_PARALLELISM=(true | false)\n"
     ]
    },
    {
     "name": "stdout",
     "output_type": "stream",
     "text": [
      "MoviePy - Done.\n",
      "MoviePy - Writing video /Users/enkhbat_1/projects/ai-video-ge/movie-reels/output/family_rules_clip.mp4\n",
      "\n"
     ]
    },
    {
     "name": "stderr",
     "output_type": "stream",
     "text": [
      "                                                                          "
     ]
    },
    {
     "name": "stdout",
     "output_type": "stream",
     "text": [
      "MoviePy - Done !\n",
      "MoviePy - video ready /Users/enkhbat_1/projects/ai-video-ge/movie-reels/output/family_rules_clip.mp4\n",
      "✅ Video processed successfully: /Users/enkhbat_1/projects/ai-video-ge/movie-reels/output/family_rules_clip.mp4\n"
     ]
    },
    {
     "name": "stderr",
     "output_type": "stream",
     "text": [
      "\r"
     ]
    }
   ],
   "source": [
    "from moviepy import VideoFileClip, TextClip, CompositeVideoClip\n",
    "import os\n",
    "\n",
    "def process_video_clip(video_param, output_path, padding=2.0):\n",
    "    \"\"\"\n",
    "    Process video parameter to create a clip with bold subtitle.\n",
    "    \n",
    "    Args:\n",
    "        video_param: VideoTextParameter object\n",
    "        output_path: Output video file path\n",
    "        padding: Seconds to add before/after the clip\n",
    "    \"\"\"\n",
    "    try:\n",
    "        # Load video\n",
    "        video = VideoFileClip(video_param.video_path)\n",
    "        \n",
    "        # Convert start time to seconds\n",
    "        def time_to_seconds(time_str):\n",
    "            time_part, ms = time_str.split(',')\n",
    "            h, m, s = map(int, time_part.split(':'))\n",
    "            return h * 3600 + m * 60 + s + int(ms) / 1000\n",
    "        \n",
    "        start_seconds = time_to_seconds(video_param.start_time) - padding\n",
    "        end_seconds = start_seconds + video_param.duration + (2 * padding)\n",
    "        \n",
    "        # Ensure we don't go below 0 or beyond video duration\n",
    "        start_seconds = max(0, start_seconds)\n",
    "        end_seconds = min(video.duration, end_seconds)\n",
    "        \n",
    "        # Cut the video\n",
    "        cut_video = video.subclipped(start_seconds, end_seconds)\n",
    "        \n",
    "        # Create bold subtitle\n",
    "        txt_clip = TextClip(text=video_param.text,\n",
    "                            font_size=50,\n",
    "                           color='white',\n",
    "                           stroke_color='black',\n",
    "                           stroke_width=3,\n",
    "                           text_align='center',duration=cut_video.duration)\n",
    "        \n",
    "        # Position subtitle and set duration\n",
    "        # txt_clip = txt_clip.set_position(('center', 'bottom')).set_duration(cut_video.duration)\n",
    "        \n",
    "        # Composite video with subtitle\n",
    "        final_video = CompositeVideoClip([cut_video, txt_clip])\n",
    "\n",
    "        # Write result\n",
    "        final_video.write_videofile(output_path, \n",
    "                                   codec='libx264', \n",
    "                                   audio_codec='aac',\n",
    "                                   temp_audiofile='temp-audio.m4a',\n",
    "                                   remove_temp=True)\n",
    "        \n",
    "        # Clean up\n",
    "        video.close()\n",
    "        cut_video.close()\n",
    "        txt_clip.close()\n",
    "        final_video.close()\n",
    "        \n",
    "        print(f\"✅ Video processed successfully: {output_path}\")\n",
    "        \n",
    "    except Exception as e:\n",
    "        raise e\n",
    "        print(f\"❌ Error processing video: {e}\")\n",
    "\n",
    "# Usage with your video_param\n",
    "output_file = f\"{ASSET_PATH}/output/family_rules_clip.mp4\"\n",
    "os.makedirs(os.path.dirname(output_file), exist_ok=True)\n",
    "\n",
    "process_video_clip(video_param, output_file, padding=3.0)"
   ]
  },
  {
   "cell_type": "code",
   "execution_count": 129,
   "id": "0af2bcf8",
   "metadata": {},
   "outputs": [],
   "source": [
    "\n",
    "\n",
    "from qdrant_client.models import NamedSparseVector, SparseVector\n",
    "\n",
    "\n",
    "# filtered_points = list(filter(lambda x: x['sparse_vector']['Rules']>0.3, vectorized_points)) \n",
    "# pprint(filtered_points[1]) # Filter points with sparse_vector > 0.7\n",
    "\n",
    "# pprint([vectorized_points[696]])"
   ]
  },
  {
   "cell_type": "code",
   "execution_count": null,
   "id": "63da3dd9",
   "metadata": {},
   "outputs": [
    {
     "name": "stdout",
     "output_type": "stream",
     "text": [
      "[-0.020625539124011993, -0.024874946102499962, -0.005882239900529385, -0.05759388580918312, -0.004994138143956661, 0.017067134380340576, -0.03075283393263817, -0.0006839074194431305, -0.06492699682712555, 0.015314488671720028, 0.005768406670540571, -0.0023322366178035736, 0.06358981132507324, -0.0059772757813334465, -0.04142795875668526, 0.10904328525066376, -0.04415011778473854, -0.013405830599367619, 0.07755953073501587, -0.07320362329483032, -0.004335508216172457, 0.05050446465611458, -0.02459375001490116, 0.09848275780677795, 0.0038839303888380527, 0.036574870347976685, -0.031241832301020622, 0.09427279233932495, 0.05795418471097946, -0.01494634710252285, 0.022779472172260284, -0.008234808221459389, -0.02086029015481472, -0.011005430482327938, 0.0035827672109007835, -0.007099002134054899, -0.00686807231977582, -0.00083505007205531, -0.028280574828386307, 0.009117215871810913, -0.017355918884277344, 0.02617531269788742, -0.03251791000366211, -0.016465889289975166, 0.016862958669662476, 0.019707852974534035, 0.03444090485572815, 0.011467496864497662, 0.012583067640662193, 0.0026763356290757656, -0.03767482191324234, -0.019437341019511223, 0.0075730225071311, 0.011858529411256313, -0.005282038822770119, -0.06562083959579468, 0.017115678638219833, 0.005375784356147051, 0.037611279636621475, 0.00825534388422966, -0.04097749665379524, 0.0308866985142231, 0.022318769246339798, -0.0219869427382946, -0.030960025265812874, 0.11928500235080719, -0.010271181352436543, -0.022294363006949425, -0.11006543040275574, -0.030230501666665077, -0.029838819056749344, -0.01395416259765625, -0.018973568454384804, 0.01198629941791296, -0.044498514384031296, 0.0208929143846035, 0.00927684921771288, -0.05264325439929962, -0.006473610643297434, 0.025066444650292397, -0.009070239029824734, 0.05880153551697731, 0.00869825854897499, 0.0030398471280932426, 0.0042848107405006886, 0.04248066991567612, 0.026887696236371994, -0.02282680943608284, -0.014739405363798141, 0.04651447758078575, -0.0606350414454937, 0.014969835989177227, -0.015808170661330223, -0.026384692639112473, 0.012703564949333668, -0.013712172396481037, -0.009372859261929989, -0.04014592245221138, -0.02578684128820896, -0.015023724175989628, -0.01188809797167778, -0.016169453039765358, -0.004570635035634041, 0.010620002634823322, -0.06524699926376343, 0.05083032324910164, -0.0729769766330719, -0.0043182699009776115, -0.020821845158934593, -0.011363002471625805, 0.03454206883907318, 0.019897133111953735, 0.0006545776268467307, 0.011245381087064743, -0.00866254698485136, -0.03568091616034508, 0.04729541391134262, -0.03569119796156883, 0.007133308798074722, 0.006283627822995186, 0.04836108162999153, -0.024495093151926994, -0.010992728173732758, -0.026358719915151596, -0.005012414418160915, 0.01888902299106121, -0.020313752815127373, -0.02200239896774292, 0.0035628313198685646, -0.03714383393526077, 0.001856014016084373, -0.03684573248028755, -0.018720680847764015, -0.0694858655333519, 0.022447191178798676, 0.015659328550100327, 0.004055489785969257, 0.0015805652365088463, 0.032171424478292465, 0.003440886503085494, -0.01522443164139986, 0.016152868047356606, 0.02642078325152397, -0.010954763740301132, 0.031008068472146988, -0.009183993563055992, -0.01033693552017212, -0.009440336376428604, -0.002867198083549738, -0.05073382332921028, 0.0018526780186221004, -0.004573794547468424, 0.013107252307236195, 0.013854270800948143, -0.01771569438278675, 0.0422498919069767, -0.03723323345184326, -0.004584189038723707, 0.014888780191540718, 0.018587300553917885, 0.025217361748218536, -0.01365694124251604, -0.0051711867563426495, -0.02302146703004837, -0.01776958256959915, 0.022609101608395576, -0.03165942057967186, -0.018118930980563164, 0.02458258531987667, -0.024641722440719604, 0.0015492107486352324, 0.03366504982113838, 0.0032495735213160515, -0.013852199539542198, -0.00633601937443018, -0.03302012383937836, -0.004110660403966904, -0.08177687227725983, -0.01046842522919178, 0.01455217320472002, 0.014138901606202126, -0.0010028163669630885, -0.02158101089298725, 0.0007152635953389108, 0.024750398471951485, -0.022001851350069046, 0.005790213588625193, -0.04653879627585411, -0.010253758169710636, -0.03442516177892685, -0.042169079184532166, -0.03189023584127426, -0.0407654233276844, -0.014443454332649708, -0.04511895775794983, -0.03057246096432209, 0.001147637376561761, -0.025490622967481613, -0.0044327108189463615, -0.008409964852035046, -0.002382942009717226, -0.0284444410353899, 0.0685742050409317, -7.612234639964299e-06, -0.02653699368238449, -0.0071278903633356094, 0.009656015783548355, 0.004951860290020704, -0.023916181176900864, -0.022495852783322334, 0.029017122462391853, 0.016557177528738976, -0.027099881321191788, -0.005177982151508331, 0.0014551224885508418, -0.02300448715686798, -0.029346086084842682, 0.016803165897727013, -0.010935981757938862, -0.00788528099656105, 0.07519812136888504, 0.0058549800887703896, -0.033009737730026245, 0.005895487032830715, 0.007321246434003115, -0.02281852811574936, 0.0032394640147686005, -0.037232767790555954, -0.01568663865327835, 0.02412499487400055, -0.0474320687353611, -0.0413377471268177, 0.035846590995788574, 0.020361484959721565, 0.04982822388410568, -0.017807630822062492, 0.008526968769729137, 0.004530807491391897, 0.01471659354865551, -0.018756123259663582, -0.00952985230833292, 0.01759004034101963, 0.029399307444691658, 0.020509229972958565, -0.058878228068351746, 0.029674192890524864, 0.01597791351377964, 0.01940261572599411, -0.013920063152909279, 0.02582371234893799, 0.02177988924086094, -0.06568547338247299, -0.026721984148025513, 0.05537937954068184, 0.005626192316412926, -0.017004335299134254, -0.009293713606894016, 0.006379987113177776, -0.01900956965982914, -0.022003989666700363, 0.005136089399456978, -0.06396640092134476, -0.03278157487511635, 0.014271157793700695, 0.0280876774340868, 0.014110272750258446, -0.017610695213079453, -0.013349279761314392, -0.05623553693294525, -0.004596692975610495, -0.017429666593670845, 0.016872620210051537, -0.016755782067775726, 0.011013860814273357, 0.01625034585595131, 0.03323831409215927, -0.006458533462136984, -0.014785012230277061, -0.00706692598760128, 0.08506602793931961, 0.01726466789841652, 0.0037416552659124136, -0.0002309094852535054, -0.010408665984869003, -0.00309200631454587, 0.04541056603193283, 0.03023645281791687, 0.021570593118667603, 0.011258103884756565, -0.02518034353852272, 0.03723113611340523, 0.024069977924227715, -0.049502793699502945, 0.07059241086244583, -0.031518373638391495, -0.022184332832694054, -0.005568989086896181, 0.07163282483816147, 0.014498123899102211, 0.016841154545545578, -0.05078539624810219, -0.025918805971741676, -0.017211059108376503, 0.012135748751461506, -0.022101247683167458, 0.022120637819170952, 0.04904228821396828, -0.024345094338059425, -0.021854596212506294, -0.004724161233752966, 0.06364456564188004, -0.007187396287918091, 0.018652157858014107, 0.03193359076976776, -0.017865439876914024, -0.029417958110570908, -0.07161127030849457, 0.051744651049375534, -0.021815495565533638, -0.017432386055588722, -0.005858673248440027, 0.04848960041999817, -0.016310038045048714, 0.04223672300577164, -0.028672903776168823, 0.0197455994784832, 0.02764575183391571, 0.020007630810141563, 0.02457549422979355, 0.024001499637961388, 0.018566330894827843, 0.040566328912973404, 0.0473015122115612, 0.00980150792747736, 0.013385404832661152, 0.0074563343077898026, -0.048025574535131454, 0.056535352021455765, -0.03229415416717529, 0.036505285650491714, -0.006978768855333328, -0.04134361818432808, -0.011249790899455547, -0.009349802508950233, -0.03511064499616623, -0.02707841619849205, -0.030478931963443756, 0.024569522589445114, 0.003626295132562518, 0.04546532779932022, -0.0756036639213562, -0.01788977161049843, -0.012482794001698494, -0.010916274040937424, -0.02709033712744713, 0.021248947829008102, -0.025178689509630203, 0.029133470728993416, -0.004351763520389795, 0.027874505147337914, -0.0410267636179924, -0.05389178544282913, 0.016626279801130295, 0.0022952957078814507, -0.04096464812755585, 0.007990071550011635, 0.016168653964996338, 0.003585635218769312, 0.043360479176044464, 0.004472765605896711, -0.07736719399690628, 0.014046541415154934, -0.06285480409860611, -0.01927736960351467, 0.05616733059287071, 0.02998392842710018, 0.09497621655464172, 0.04020778089761734, 0.024737844243645668, 0.009943580254912376, 0.05576436594128609, 0.0009488866198807955, -0.04110843688249588, 0.04809184744954109, -0.0023753317072987556, -0.011585615575313568, 0.04831453040242195, -0.05516144633293152, -0.00718080997467041, -0.013814827427268028, 0.020082207396626472, -0.00707348482683301, 0.00910668820142746, -0.0023967104498296976, 0.021119270473718643, 0.06007099896669388, -0.09417002648115158, 0.02227586880326271, 0.0006265707197599113, -0.005238280165940523, -0.030332958325743675, -0.002393795410171151, -0.03281139209866524, 0.02210882306098938, -0.004190631676465273, -0.02757084183394909, -0.016631538048386574, -0.04055135324597359, 0.010378767736256123, -0.008106222376227379, 0.07938963919878006, 0.0029160508420318365, -0.021815655753016472, -0.023394986987113953, -0.03762630373239517, -0.012847078032791615, 0.04658671095967293, -0.034849077463150024, -0.0015955592971295118, 0.0092077711597085, -0.016397686675190926, 0.015518185682594776, -0.01184931118041277, -0.009912228211760521, 0.00029087066650390625, 0.006125614047050476, -0.034918949007987976, -0.02541550248861313, -0.025912882760167122, 0.04713689908385277, 0.009784228168427944, -0.026572082191705704, -0.03867141902446747, 0.011651207692921162, 0.025692936033010483, -0.0041266498155891895, 0.05256709083914757, -0.029582811519503593, 0.005723485257476568, -0.004374929238110781, -0.06315907090902328, 0.04038264974951744, 0.030698271468281746, -0.020041072741150856, -0.007242193911224604, -0.006166193168610334, -0.023515988141298294, -0.0384628027677536, 0.051459621638059616, -0.02621566131711006, 0.03891213610768318, -0.031595855951309204, 0.02841472439467907, 0.09720295667648315, -0.035227980464696884, -0.03787596523761749, -0.0009818167891353369, -0.043545324355363846, -0.0015358410310000181, 0.011294372379779816, -0.025195444002747536, 0.025695355609059334, 0.016929641366004944, -0.02952473610639572, -0.012925183400511742, 0.004380976781249046, -0.043806202709674835, -0.0033871461637318134, 0.006660647224634886, 0.014073946513235569, -0.029763154685497284, -0.025902241468429565, 0.01002158410847187, 0.012091890908777714, 0.019181355834007263, 0.010042000561952591, -0.059511978179216385, -0.05564521998167038, -0.03758251294493675, -0.010510538704693317, -0.013714980334043503, -0.027286967262625694, 0.0824178159236908, -0.044335756450891495, 0.04096672683954239, -0.016955086961388588, -0.03910968452692032, -0.038605399429798126, -0.0573694072663784, -0.013404649682343006, -0.019651196897029877, 0.03913448750972748, 0.010949365794658661, -0.021481133997440338, -0.01910039782524109, 0.060256391763687134, -0.008601415902376175, 0.009825794026255608, -0.08447053283452988, -0.028590572997927666, 0.0006418224074877799, 0.017995471134781837, 0.021673189476132393, -0.020604455843567848, -0.0428822860121727, 0.020955944433808327, -0.026986723765730858, 0.01503866259008646, 0.0512341670691967, 0.02875693514943123, 0.004919896833598614, -0.024659641087055206, -0.019305679947137833, 0.02886907383799553, 0.0028732449281960726, -0.07253868877887726, 0.03343355283141136, 0.048354603350162506, 0.015150453895330429, 0.04772575572133064, -0.06219153851270676, 0.03117295727133751, 0.026675386354327202, 0.028130903840065002, 0.02594987116754055, 0.07184936851263046, 0.03976701572537422, -0.023010291159152985, -0.027326826006174088, 0.0222643930464983, 0.01727699674665928, 0.0090029276907444, 0.03340950235724449, 0.020743954926729202, 0.02545316517353058, 0.06670648604631424, 0.019107317551970482, -0.016182508319616318, 0.03009602427482605, 0.014916746877133846, -0.03596062213182449, -0.014276381582021713, -0.01859946735203266, -0.018828604370355606, 0.023872628808021545, -0.04389292374253273, -0.011657549999654293, 0.0016768794739618897, 0.005734656006097794, 0.035736046731472015, 0.009896032512187958, -0.019786864519119263, 0.0972333699464798, -0.02738778479397297, 0.006383352912962437, -0.03019688092172146, 0.060849878937006, 0.02759615145623684, 0.025015121325850487, -0.029088139533996582, -0.04357794299721718, 0.020048022270202637, -0.031115632504224777, -0.039846066385507584, -0.017581265419721603, 0.018999334424734116, 0.0025282518472522497, -0.008891750127077103, 0.027479635551571846, -0.039376311004161835, -0.004969599656760693, -0.04164883494377136, 0.010924812406301498, 0.007457157131284475, 0.0030389055609703064, -0.02665204368531704, -0.06972482055425644, 0.02693604864180088, 0.005448767449706793, -0.06984642893075943, 0.03233266621828079, -0.005981433670967817, 0.0224950909614563, -0.04617825150489807, 0.020928500220179558, -0.005934457760304213, -0.027592690661549568, -0.007141591515392065, 0.02774820104241371, 0.012084276415407658, -0.025391772389411926, -0.0454399399459362, -0.001925442717038095, 0.042205505073070526, 0.07230935245752335, -0.028927015140652657, -0.023056846112012863, -0.020480245351791382, 0.05000414326786995, 0.03312636539340019, 0.004263259936124086, 0.04813748225569725, 0.01660308428108692, -0.00947875902056694, -0.04865199699997902, 0.010415379889309406, -0.011934778653085232, -0.011906778439879417, -0.05307454615831375, 0.01578604057431221, -0.037330906838178635, 0.0012370051117613912, 0.008101304993033409, 0.020772794261574745, 0.016499973833560944, -0.052431996911764145, -0.03219039738178253, 0.003615043591707945, 0.020279457792639732, -0.032941531389951706, 0.03668511286377907, 0.019729726016521454, -0.030463455244898796, 0.014609617181122303, 0.007042628712952137, 0.010828373022377491, -0.0004309486539568752, -0.06753145903348923, -0.012994189746677876, -0.0008288617245852947, 0.02573522739112377, 0.002294680802151561, -0.009429551661014557, -0.013815195299685001, 0.0266340970993042, -0.049613773822784424, 0.0012443257728591561, -0.007666613440960646, 0.020598215982317924, 0.03145623579621315, -0.024129165336489677, -0.02619871497154236, -0.03136870637536049, 0.02123100310564041, -0.01405369769781828, 0.029491938650608063, -0.03156725689768791, 0.031209999695420265, 0.07376428693532944, -0.031278979033231735, 0.06346654146909714, 0.01388914417475462, 0.01661127433180809, -0.020383888855576515, -0.020493438467383385, 0.027644874528050423, 0.019433125853538513, 0.006584733258932829, -0.0019003711640834808, -0.05011366680264473, 0.02333979867398739, -0.05928001552820206, 0.0006666353438049555, -0.03511783853173256, -0.0284705962985754, -0.017999369651079178, 0.043372202664613724, 0.0415971614420414, 0.030039107427001, -0.006802938412874937, 1.7000415027723648e-05, 0.005546534433960915, 0.012865680269896984, 0.026842910796403885, 0.009271054528653622, -0.04496331885457039, -0.026861712336540222, -0.0021601736079901457, -0.07789231836795807, -0.04327474907040596, -0.03661918640136719, -0.025101978331804276, -0.025954019278287888, -0.037159960716962814, 0.021419988945126534, -0.008586892858147621, -0.059865802526474, 0.010198641568422318, -0.016822848469018936, -0.005819849669933319, -0.03281617537140846, -0.027504751458764076, 0.04525167867541313, 0.039238907396793365, 0.018598075956106186, 0.021770231425762177, -0.00906620267778635, -0.006056850776076317, -0.03455626592040062, -0.026382986456155777, -0.019053254276514053, 0.021056437864899635, -0.00557331508025527, 0.0037696550134569407, 0.027415910735726357, 0.043169762939214706, -0.03140798211097717, -0.04494652897119522, -0.030389344319701195, -0.03352737799286842, 0.02568979747593403, 0.016430312767624855, 0.00776060251519084, -0.009156486950814724, 0.016538789495825768, -0.013875766657292843, -0.03151537850499153, -0.04436087608337402, 0.019089464098215103, 0.027934124693274498, -0.004547692835330963, -0.005793150048702955, 0.01654784381389618, 0.08654535561800003, 0.007629924453794956, 0.016275878995656967, 0.07295741885900497, -0.00857323408126831, 0.00835728831589222, -0.024442143738269806, 0.01738036423921585, -0.039752811193466187, -0.0025957338511943817, 0.015730204060673714, 0.006839971523731947, 0.01184283010661602, 0.04898863285779953, 0.03074481151998043, 0.012839412316679955, -0.012379640713334084, 0.016044046729803085, 0.03673804923892021, -0.028976131230592728, -0.026237675920128822, -0.0026003390084952116, 0.03660225123167038, 0.0008212430984713137, -0.04846666008234024, 0.017386524006724358, -0.024079743772745132, 0.05733654275536537, -0.04801333695650101, -0.007258500438183546, 0.03191392496228218, -0.028829194605350494, -0.03918198123574257, -0.016923515126109123, 0.052728526294231415, 0.07288440316915512, 0.021373189985752106, -0.01650802604854107, -0.01288046594709158, -0.0018994674319401383, 0.010088215582072735, 0.010950406081974506, -0.05890267342329025, 0.015617841854691505, -0.03726573660969734, 0.008953383192420006, 1.8198697944171727e-05, 0.009391004219651222, -0.01017049141228199, 0.01231718435883522, 0.004804905503988266, 0.022020135074853897, 0.021822940558195114, 0.05420072376728058, -0.009549046866595745, 0.005097308661788702, -0.019424498081207275, 0.0034390261862426996, -0.04833195358514786, 0.03031987138092518, 0.00893579050898552, -0.03241314738988876, 0.023671051487326622, 0.026645442470908165, -0.0216814037412405, 0.06179903820157051, -0.020139822736382484, -0.026293618604540825, -0.012615103274583817, -0.009213906712830067, -0.019024180248379707, -0.062741719186306, 0.028877656906843185, -0.03558947145938873, 0.051349204033613205, -0.023355945944786072, 0.050667498260736465, -0.04999607056379318, 0.01177280955016613, 0.007617015857249498, -0.04048527404665947, 0.013898360542953014, 0.061138272285461426, -0.0007936575566418469, 0.04554218426346779, -0.02059391513466835, -0.0028843218460679054, 0.050916362553834915, 0.07077611982822418, -0.0038451803848147392, 0.02415541000664234, 0.007501577027142048, 0.018723133951425552, 0.0009284670231863856, 0.00279500731267035, 0.00935452338308096, 0.00786510854959488, -0.015954796224832535, -0.003429614705964923, 0.03815801814198494, 0.03804287686944008, 0.0008744075894355774, -0.02355758473277092, 0.017222115769982338, 0.019996387884020805, -0.09152919799089432, -0.000596754252910614, 0.035351142287254333, -0.03888526186347008, 0.052708931267261505, 0.024326737970113754, 0.04528752714395523, 0.021470243111252785, -0.03159479796886444, -0.027182163670659065, 0.02173272892832756, 0.025310100987553596, 0.02269774116575718, -0.03783376142382622, 0.014953057281672955, 0.012441699393093586, -0.023854034021496773, 0.032765213400125504, 0.01275456603616476, 0.01017213799059391, -0.026006652042269707, -0.02214726433157921, -0.002184176817536354, 0.02228151261806488, -0.018670106306672096, -0.005102853756397963, -0.030831914395093918, 0.030584026128053665, -0.0163195189088583, -0.01520420890301466, -0.028722520917654037, -0.022010140120983124, 0.011782372370362282, -0.03369239345192909, -0.025723407045006752, -0.022819964215159416, 0.031993504613637924, 0.03908495977520943, 0.03188107907772064, 0.057065535336732864, 0.0007562547107227147, -0.012446533888578415, 0.0048845489509403706, 0.03211989626288414, -0.0013542226515710354, 0.04581247642636299, -0.060485467314720154, 0.022801825776696205, -0.01556817814707756, 0.04574689641594887, 0.00022727352916263044, 0.04501059278845787, -0.012959293089807034, 0.027718637138605118, 0.012761332094669342, 0.009969915263354778, -0.005905281286686659, 0.021034985780715942, 0.0068760039284825325, -0.01477390993386507, 0.005287150386720896, -0.03266262263059616, 0.008374088443815708, -0.04204080253839493, -0.008082879707217216, -0.008529807440936565, -0.044443368911743164, -0.025367943570017815, 0.010748391039669514, -0.007037574425339699, -0.02522445097565651, -0.019900407642126083, -0.00475145410746336, -0.04474649205803871, 0.0029666018672287464, -0.002869333839043975, -0.02665742114186287, -0.04761359095573425, 0.023338787257671356, -0.0190413948148489, -0.03850102797150612, -0.006521748844534159, -0.05778292566537857, 0.04228198900818825, 0.008609311655163765, -0.024080850183963776, 0.027210833504796028, -0.047936730086803436, -0.038439083844423294, -0.026102744042873383, 0.00037161546060815454, 0.016479430720210075, 0.019620265811681747, 0.001493012416176498, 0.013644004240632057, -0.005187914706766605, 0.029100051149725914, -0.0248249601572752, -0.023377981036901474, -0.00482636783272028, 0.027309715747833252, 0.04178639501333237, -0.045594580471515656, -0.012381338514387608, 0.02149384468793869, 0.02980346791446209, -0.010188988409936428, -0.01298085693269968, 0.019159015268087387, -0.020436683669686317, -0.00562808383256197, 0.012480881996452808, 0.048409976065158844, -0.027472300454974174, 0.04284610599279404, -0.005634474568068981, 0.03475452959537506, -0.018919041380286217, -0.0022987856063991785, 0.011074412614107132, 0.012244249694049358, -0.05775700882077217, 0.025192059576511383, -0.00839360523968935, -0.010623300448060036, 0.0539998933672905, 0.04144614562392235, -0.02190985530614853, -0.022927461192011833, -0.013331877999007702, -0.05100081115961075, 0.02306642010807991, 0.019115537405014038, 0.0032417564652860165, 0.03402051702141762, -0.008384312503039837, 0.02660372108221054, -0.0009780172258615494, 0.016334587708115578, 0.026368746533989906, 0.01133999414741993, -0.01640527881681919, -0.016588740050792694, -0.008129955269396305, 0.00742293568328023, 0.03642495349049568, 0.005972730927169323, -0.017864055931568146, -0.02485566772520542, 0.04105743020772934, 0.04694093018770218, 0.009528368711471558, -0.032971709966659546, 0.016136113554239273, 0.0032167688477784395, 0.051701441407203674, 0.0037426049821078777, -0.02858230285346508, -0.034263912588357925, 0.05483542010188103, 0.02286926843225956, -0.05595012754201889, 0.047306593507528305, 0.03035912662744522, -0.01930059865117073, -0.040317267179489136, 0.044265806674957275, 0.0028427562210708857, 0.027082649990916252, 0.024761032313108444, 0.002538206521421671, 0.0016351672820746899, 0.014653748832643032, -0.02826649881899357, -0.0415070578455925, 0.008687660098075867, 0.015463965013623238, -0.005847978871315718, -0.002377021126449108, 0.007088261190801859, -0.005974114872515202, 0.011965365149080753, 0.005977818742394447, 0.0026592009235173464, -0.01994149200618267, -0.02068191207945347, 0.01288367435336113, -0.003529981942847371, -0.03894764557480812, -0.01834883540868759, -0.031187836080789566, -0.01883474737405777, -0.0022807386703789234, 0.011505977250635624, 0.03433192893862724, 0.014106434769928455]\n"
     ]
    }
   ],
   "source": [
    "\n",
    "client = QdrantClient(\n",
    "    url=QDRANT_URL,  # Use QDRANT_URL from environment variables\n",
    "    api_key=QDRANT_API_KEY\n",
    ")\n",
    "\n",
    "# Test embedding to ensure model is loaded\n",
    "# client.delete_collection(QDRANT_COLLECTION)  # Delete the collection if it exists"
   ]
  },
  {
   "cell_type": "code",
   "execution_count": null,
   "id": "7c767168",
   "metadata": {},
   "outputs": [
    {
     "ename": "ValueError",
     "evalue": "'sparse_embedding' cannot be None when retrieval mode is 'sparse'",
     "output_type": "error",
     "traceback": [
      "\u001b[31m---------------------------------------------------------------------------\u001b[39m",
      "\u001b[31mValueError\u001b[39m                                Traceback (most recent call last)",
      "\u001b[36mCell\u001b[39m\u001b[36m \u001b[39m\u001b[32mIn[73]\u001b[39m\u001b[32m, line 6\u001b[39m\n\u001b[32m      2\u001b[39m \u001b[38;5;28;01mfrom\u001b[39;00m\u001b[38;5;250m \u001b[39m\u001b[34;01mlangchain_qdrant\u001b[39;00m\u001b[38;5;250m \u001b[39m\u001b[38;5;28;01mimport\u001b[39;00m RetrievalMode\n\u001b[32m      5\u001b[39m \u001b[38;5;66;03m# Insert the documents into Qdrant\u001b[39;00m\n\u001b[32m----> \u001b[39m\u001b[32m6\u001b[39m vector_store = \u001b[43mQdrantVectorStore\u001b[49m\u001b[43m.\u001b[49m\u001b[43mfrom_documents\u001b[49m\u001b[43m(\u001b[49m\n\u001b[32m      7\u001b[39m \u001b[43m    \u001b[49m\u001b[43mall_splits\u001b[49m\u001b[43m,\u001b[49m\u001b[43membeddings\u001b[49m\u001b[43m,\u001b[49m\n\u001b[32m      8\u001b[39m \u001b[43m    \u001b[49m\u001b[43murl\u001b[49m\u001b[43m \u001b[49m\u001b[43m=\u001b[49m\u001b[43m \u001b[49m\u001b[43mQDRANT_URL\u001b[49m\u001b[43m,\u001b[49m\n\u001b[32m      9\u001b[39m \u001b[43m    \u001b[49m\u001b[43mapi_key\u001b[49m\u001b[43m \u001b[49m\u001b[43m=\u001b[49m\u001b[43m \u001b[49m\u001b[43mQDRANT_API_KEY\u001b[49m\u001b[43m,\u001b[49m\n\u001b[32m     10\u001b[39m \u001b[43m    \u001b[49m\u001b[43mcollection_name\u001b[49m\u001b[43m=\u001b[49m\u001b[33;43m\"\u001b[39;49m\u001b[33;43msrt_subtitles\u001b[39;49m\u001b[33;43m\"\u001b[39;49m\u001b[43m,\u001b[49m\n\u001b[32m     11\u001b[39m \u001b[43m    \u001b[49m\u001b[43mretrieval_mode\u001b[49m\u001b[43m=\u001b[49m\u001b[43mRetrievalMode\u001b[49m\u001b[43m.\u001b[49m\u001b[43mSPARSE\u001b[49m\n\u001b[32m     12\u001b[39m \u001b[43m)\u001b[49m\n",
      "\u001b[36mFile \u001b[39m\u001b[32m~/projects/ai-video-ge/.venv/lib/python3.11/site-packages/langchain_core/vectorstores/base.py:848\u001b[39m, in \u001b[36mVectorStore.from_documents\u001b[39m\u001b[34m(cls, documents, embedding, **kwargs)\u001b[39m\n\u001b[32m    845\u001b[39m     \u001b[38;5;28;01mif\u001b[39;00m \u001b[38;5;28many\u001b[39m(ids):\n\u001b[32m    846\u001b[39m         kwargs[\u001b[33m\"\u001b[39m\u001b[33mids\u001b[39m\u001b[33m\"\u001b[39m] = ids\n\u001b[32m--> \u001b[39m\u001b[32m848\u001b[39m \u001b[38;5;28;01mreturn\u001b[39;00m \u001b[38;5;28;43mcls\u001b[39;49m\u001b[43m.\u001b[49m\u001b[43mfrom_texts\u001b[49m\u001b[43m(\u001b[49m\u001b[43mtexts\u001b[49m\u001b[43m,\u001b[49m\u001b[43m \u001b[49m\u001b[43membedding\u001b[49m\u001b[43m,\u001b[49m\u001b[43m \u001b[49m\u001b[43mmetadatas\u001b[49m\u001b[43m=\u001b[49m\u001b[43mmetadatas\u001b[49m\u001b[43m,\u001b[49m\u001b[43m \u001b[49m\u001b[43m*\u001b[49m\u001b[43m*\u001b[49m\u001b[43mkwargs\u001b[49m\u001b[43m)\u001b[49m\n",
      "\u001b[36mFile \u001b[39m\u001b[32m~/projects/ai-video-ge/.venv/lib/python3.11/site-packages/langchain_qdrant/qdrant.py:343\u001b[39m, in \u001b[36mQdrantVectorStore.from_texts\u001b[39m\u001b[34m(cls, texts, embedding, metadatas, ids, collection_name, location, url, port, grpc_port, prefer_grpc, https, api_key, prefix, timeout, host, path, distance, content_payload_key, metadata_payload_key, vector_name, retrieval_mode, sparse_embedding, sparse_vector_name, collection_create_options, vector_params, sparse_vector_params, batch_size, force_recreate, validate_embeddings, validate_collection_config, **kwargs)\u001b[39m\n\u001b[32m    311\u001b[39m \u001b[38;5;250m\u001b[39m\u001b[33;03m\"\"\"Construct an instance of `QdrantVectorStore` from a list of texts.\u001b[39;00m\n\u001b[32m    312\u001b[39m \n\u001b[32m    313\u001b[39m \u001b[33;03mThis is a user-friendly interface that:\u001b[39;00m\n\u001b[32m   (...)\u001b[39m\u001b[32m    326\u001b[39m \u001b[33;03m    qdrant = Qdrant.from_texts(texts, embeddings, url=\"http://localhost:6333\")\u001b[39;00m\n\u001b[32m    327\u001b[39m \u001b[33;03m\"\"\"\u001b[39;00m\n\u001b[32m    328\u001b[39m client_options = {\n\u001b[32m    329\u001b[39m     \u001b[33m\"\u001b[39m\u001b[33mlocation\u001b[39m\u001b[33m\"\u001b[39m: location,\n\u001b[32m    330\u001b[39m     \u001b[33m\"\u001b[39m\u001b[33murl\u001b[39m\u001b[33m\"\u001b[39m: url,\n\u001b[32m   (...)\u001b[39m\u001b[32m    340\u001b[39m     **kwargs,\n\u001b[32m    341\u001b[39m }\n\u001b[32m--> \u001b[39m\u001b[32m343\u001b[39m qdrant = \u001b[38;5;28;43mcls\u001b[39;49m\u001b[43m.\u001b[49m\u001b[43mconstruct_instance\u001b[49m\u001b[43m(\u001b[49m\n\u001b[32m    344\u001b[39m \u001b[43m    \u001b[49m\u001b[43membedding\u001b[49m\u001b[43m,\u001b[49m\n\u001b[32m    345\u001b[39m \u001b[43m    \u001b[49m\u001b[43mretrieval_mode\u001b[49m\u001b[43m,\u001b[49m\n\u001b[32m    346\u001b[39m \u001b[43m    \u001b[49m\u001b[43msparse_embedding\u001b[49m\u001b[43m,\u001b[49m\n\u001b[32m    347\u001b[39m \u001b[43m    \u001b[49m\u001b[43mclient_options\u001b[49m\u001b[43m,\u001b[49m\n\u001b[32m    348\u001b[39m \u001b[43m    \u001b[49m\u001b[43mcollection_name\u001b[49m\u001b[43m,\u001b[49m\n\u001b[32m    349\u001b[39m \u001b[43m    \u001b[49m\u001b[43mdistance\u001b[49m\u001b[43m,\u001b[49m\n\u001b[32m    350\u001b[39m \u001b[43m    \u001b[49m\u001b[43mcontent_payload_key\u001b[49m\u001b[43m,\u001b[49m\n\u001b[32m    351\u001b[39m \u001b[43m    \u001b[49m\u001b[43mmetadata_payload_key\u001b[49m\u001b[43m,\u001b[49m\n\u001b[32m    352\u001b[39m \u001b[43m    \u001b[49m\u001b[43mvector_name\u001b[49m\u001b[43m,\u001b[49m\n\u001b[32m    353\u001b[39m \u001b[43m    \u001b[49m\u001b[43msparse_vector_name\u001b[49m\u001b[43m,\u001b[49m\n\u001b[32m    354\u001b[39m \u001b[43m    \u001b[49m\u001b[43mforce_recreate\u001b[49m\u001b[43m,\u001b[49m\n\u001b[32m    355\u001b[39m \u001b[43m    \u001b[49m\u001b[43mcollection_create_options\u001b[49m\u001b[43m,\u001b[49m\n\u001b[32m    356\u001b[39m \u001b[43m    \u001b[49m\u001b[43mvector_params\u001b[49m\u001b[43m,\u001b[49m\n\u001b[32m    357\u001b[39m \u001b[43m    \u001b[49m\u001b[43msparse_vector_params\u001b[49m\u001b[43m,\u001b[49m\n\u001b[32m    358\u001b[39m \u001b[43m    \u001b[49m\u001b[43mvalidate_embeddings\u001b[49m\u001b[43m,\u001b[49m\n\u001b[32m    359\u001b[39m \u001b[43m    \u001b[49m\u001b[43mvalidate_collection_config\u001b[49m\u001b[43m,\u001b[49m\n\u001b[32m    360\u001b[39m \u001b[43m\u001b[49m\u001b[43m)\u001b[49m\n\u001b[32m    361\u001b[39m qdrant.add_texts(texts, metadatas, ids, batch_size)\n\u001b[32m    362\u001b[39m \u001b[38;5;28;01mreturn\u001b[39;00m qdrant\n",
      "\u001b[36mFile \u001b[39m\u001b[32m~/projects/ai-video-ge/.venv/lib/python3.11/site-packages/langchain_qdrant/qdrant.py:806\u001b[39m, in \u001b[36mQdrantVectorStore.construct_instance\u001b[39m\u001b[34m(cls, embedding, retrieval_mode, sparse_embedding, client_options, collection_name, distance, content_payload_key, metadata_payload_key, vector_name, sparse_vector_name, force_recreate, collection_create_options, vector_params, sparse_vector_params, validate_embeddings, validate_collection_config)\u001b[39m\n\u001b[32m    785\u001b[39m \u001b[38;5;129m@classmethod\u001b[39m\n\u001b[32m    786\u001b[39m \u001b[38;5;28;01mdef\u001b[39;00m\u001b[38;5;250m \u001b[39m\u001b[34mconstruct_instance\u001b[39m(\n\u001b[32m    787\u001b[39m     \u001b[38;5;28mcls\u001b[39m: Type[QdrantVectorStore],\n\u001b[32m   (...)\u001b[39m\u001b[32m    803\u001b[39m     validate_collection_config: \u001b[38;5;28mbool\u001b[39m = \u001b[38;5;28;01mTrue\u001b[39;00m,\n\u001b[32m    804\u001b[39m ) -> QdrantVectorStore:\n\u001b[32m    805\u001b[39m     \u001b[38;5;28;01mif\u001b[39;00m validate_embeddings:\n\u001b[32m--> \u001b[39m\u001b[32m806\u001b[39m         \u001b[38;5;28;43mcls\u001b[39;49m\u001b[43m.\u001b[49m\u001b[43m_validate_embeddings\u001b[49m\u001b[43m(\u001b[49m\u001b[43mretrieval_mode\u001b[49m\u001b[43m,\u001b[49m\u001b[43m \u001b[49m\u001b[43membedding\u001b[49m\u001b[43m,\u001b[49m\u001b[43m \u001b[49m\u001b[43msparse_embedding\u001b[49m\u001b[43m)\u001b[49m\n\u001b[32m    807\u001b[39m     collection_name = collection_name \u001b[38;5;129;01mor\u001b[39;00m uuid.uuid4().hex\n\u001b[32m    808\u001b[39m     client = QdrantClient(**client_options)\n",
      "\u001b[36mFile \u001b[39m\u001b[32m~/projects/ai-video-ge/.venv/lib/python3.11/site-packages/langchain_qdrant/qdrant.py:1168\u001b[39m, in \u001b[36mQdrantVectorStore._validate_embeddings\u001b[39m\u001b[34m(cls, retrieval_mode, embedding, sparse_embedding)\u001b[39m\n\u001b[32m   1163\u001b[39m     \u001b[38;5;28;01mraise\u001b[39;00m \u001b[38;5;167;01mValueError\u001b[39;00m(\n\u001b[32m   1164\u001b[39m         \u001b[33m\"\u001b[39m\u001b[33m'\u001b[39m\u001b[33membedding\u001b[39m\u001b[33m'\u001b[39m\u001b[33m cannot be None when retrieval mode is \u001b[39m\u001b[33m'\u001b[39m\u001b[33mdense\u001b[39m\u001b[33m'\u001b[39m\u001b[33m\"\u001b[39m\n\u001b[32m   1165\u001b[39m     )\n\u001b[32m   1167\u001b[39m \u001b[38;5;28;01melif\u001b[39;00m retrieval_mode == RetrievalMode.SPARSE \u001b[38;5;129;01mand\u001b[39;00m sparse_embedding \u001b[38;5;129;01mis\u001b[39;00m \u001b[38;5;28;01mNone\u001b[39;00m:\n\u001b[32m-> \u001b[39m\u001b[32m1168\u001b[39m     \u001b[38;5;28;01mraise\u001b[39;00m \u001b[38;5;167;01mValueError\u001b[39;00m(\n\u001b[32m   1169\u001b[39m         \u001b[33m\"\u001b[39m\u001b[33m'\u001b[39m\u001b[33msparse_embedding\u001b[39m\u001b[33m'\u001b[39m\u001b[33m cannot be None when retrieval mode is \u001b[39m\u001b[33m'\u001b[39m\u001b[33msparse\u001b[39m\u001b[33m'\u001b[39m\u001b[33m\"\u001b[39m\n\u001b[32m   1170\u001b[39m     )\n\u001b[32m   1172\u001b[39m \u001b[38;5;28;01melif\u001b[39;00m retrieval_mode == RetrievalMode.HYBRID \u001b[38;5;129;01mand\u001b[39;00m \u001b[38;5;28many\u001b[39m(\n\u001b[32m   1173\u001b[39m     [embedding \u001b[38;5;129;01mis\u001b[39;00m \u001b[38;5;28;01mNone\u001b[39;00m, sparse_embedding \u001b[38;5;129;01mis\u001b[39;00m \u001b[38;5;28;01mNone\u001b[39;00m]\n\u001b[32m   1174\u001b[39m ):\n\u001b[32m   1175\u001b[39m     \u001b[38;5;28;01mraise\u001b[39;00m \u001b[38;5;167;01mValueError\u001b[39;00m(\n\u001b[32m   1176\u001b[39m         \u001b[33m\"\u001b[39m\u001b[33mBoth \u001b[39m\u001b[33m'\u001b[39m\u001b[33membedding\u001b[39m\u001b[33m'\u001b[39m\u001b[33m and \u001b[39m\u001b[33m'\u001b[39m\u001b[33msparse_embedding\u001b[39m\u001b[33m'\u001b[39m\u001b[33m cannot be None \u001b[39m\u001b[33m\"\u001b[39m\n\u001b[32m   1177\u001b[39m         \u001b[33m\"\u001b[39m\u001b[33mwhen retrieval mode is \u001b[39m\u001b[33m'\u001b[39m\u001b[33mhybrid\u001b[39m\u001b[33m'\u001b[39m\u001b[33m\"\u001b[39m\n\u001b[32m   1178\u001b[39m     )\n",
      "\u001b[31mValueError\u001b[39m: 'sparse_embedding' cannot be None when retrieval mode is 'sparse'"
     ]
    }
   ],
   "source": [
    "from langchain_qdrant import QdrantVectorStore\n",
    "from langchain_qdrant import RetrievalMode\n",
    "\n",
    "# Insert the documents into Qdrant\n",
    "vector_store = QdrantVectorStore.from_documents(\n",
    "    all_splits,embeddings,\n",
    "    url = QDRANT_URL,\n",
    "    api_key = QDRANT_API_KEY,\n",
    "    collection_name=\"srt_subtitles\",\n",
    "    retrieval_mode=RetrievalMode.DENSE\n",
    ")"
   ]
  },
  {
   "cell_type": "code",
   "execution_count": null,
   "id": "8563c640",
   "metadata": {},
   "outputs": [
    {
     "name": "stdout",
     "output_type": "stream",
     "text": [
      "[ScoredPoint(id='e779bacb-cb85-4694-81c5-e3a156769110', version=20, score=0.6050934, payload={'page_content': 'Waste of money, if you ask me.', 'metadata': {'index': 340, 'start': '00:26:43,600', 'end': '00:26:45,560', 'movie_name': 'Shawshank Redemption', 'start_index': 0}}, vector=None, shard_key=None, order_value=None),\n",
      " ScoredPoint(id='cc523f6f-9089-4418-8880-3c9b8d17152b', version=5, score=0.6050934, payload={'page_content': 'Waste of money, if you ask me.', 'metadata': {'index': 340, 'start': '00:26:43,600', 'end': '00:26:45,560', 'movie_name': 'Shawshank Redemption', 'start_index': 0}}, vector=None, shard_key=None, order_value=None),\n",
      " ScoredPoint(id='c9ee01a2-0442-46e8-ae51-fbb6706394f5', version=6, score=0.6033416, payload={'page_content': 'A million bucks?', 'metadata': {'index': 420, 'start': '00:33:07,120', 'end': '00:33:08,920', 'movie_name': 'Shawshank Redemption', 'start_index': 0}}, vector=None, shard_key=None, order_value=None)]\n"
     ]
    }
   ],
   "source": [
    "\n",
    "from qdrant_client import models\n",
    "\n",
    "# Perform a similarity search\n",
    "retrieve = client.query_points(\n",
    "    collection_name=\"srt_subtitles\",\n",
    "    query=embeddings.embed_query(\"Earn money\"),\n",
    "    limit=3,\n",
    "     search_params=models.SearchParams(hnsw_ef=128, exact=False), # Explore 128 values before returning results\n",
    ")\n",
    "pprint(retrieve.points)"
   ]
  },
  {
   "cell_type": "code",
   "execution_count": 68,
   "id": "1f6495a0",
   "metadata": {},
   "outputs": [
    {
     "name": "stdout",
     "output_type": "stream",
     "text": [
      "[Document(metadata={'index': 340, 'start': '00:26:43,600', 'end': '00:26:45,560', 'movie_name': 'Shawshank Redemption', 'start_index': 0, '_id': 'e779bacb-cb85-4694-81c5-e3a156769110', '_collection_name': 'srt_subtitles'}, page_content='Waste of money, if you ask me.'),\n",
      " Document(metadata={'index': 340, 'start': '00:26:43,600', 'end': '00:26:45,560', 'movie_name': 'Shawshank Redemption', 'start_index': 0, '_id': 'cc523f6f-9089-4418-8880-3c9b8d17152b', '_collection_name': 'srt_subtitles'}, page_content='Waste of money, if you ask me.'),\n",
      " Document(metadata={'index': 420, 'start': '00:33:07,120', 'end': '00:33:08,920', 'movie_name': 'Shawshank Redemption', 'start_index': 0, '_id': 'c9ee01a2-0442-46e8-ae51-fbb6706394f5', '_collection_name': 'srt_subtitles'}, page_content='A million bucks?')]\n"
     ]
    }
   ],
   "source": [
    "\n",
    "# Perform a similarity search\n",
    "\n",
    "query = \"Earn money\"\n",
    "found_docs = vector_store.similarity_search(query, k=3)\n",
    "pprint(found_docs)"
   ]
  },
  {
   "cell_type": "code",
   "execution_count": null,
   "id": "287c5466",
   "metadata": {},
   "outputs": [],
   "source": [
    "### Chat with Gemini model\n",
    "import os\n",
    "\n",
    "from langchain.chat_models import init_chat_model\n",
    "\n",
    "# Use Gemini instead of Gemma for system prompt support\n",
    "model = init_chat_model(model=\"gemini-1.5-flash\",\n",
    "                         model_provider=\"google_genai\", \n",
    "                         api_key=os.environ[\"GEMINI_API_KEY\"])\n",
    "\n",
    "\n",
    "from langchain_core.messages import HumanMessage\n",
    "\n",
    "# For Gemma models, combine system instruction with human message\n",
    "messages = [\n",
    "    HumanMessage(\"Translate the following from English into Italian: hi!\"),\n",
    "]\n",
    "\n",
    "model.invoke(messages).content\n"
   ]
  }
 ],
 "metadata": {
  "kernelspec": {
   "display_name": ".venv",
   "language": "python",
   "name": "python3"
  },
  "language_info": {
   "codemirror_mode": {
    "name": "ipython",
    "version": 3
   },
   "file_extension": ".py",
   "mimetype": "text/x-python",
   "name": "python",
   "nbconvert_exporter": "python",
   "pygments_lexer": "ipython3",
   "version": "3.11.4"
  }
 },
 "nbformat": 4,
 "nbformat_minor": 5
}
